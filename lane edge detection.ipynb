{
 "cells": [
  {
   "cell_type": "code",
   "execution_count": null,
   "metadata": {},
   "outputs": [],
   "source": [
    "import numpy as np\n",
    "import matplotlib.pyplot as plt\n",
    "import cv2 "
   ]
  },
  {
   "cell_type": "code",
   "execution_count": null,
   "metadata": {},
   "outputs": [],
   "source": [
    "def process(image):\n",
    "    height = image.shape[0]\n",
    "    width = image.shape[1]\n",
    "    inter = [\n",
    "        (0, height),\n",
    "        (width/2, height/1.3),\n",
    "        (width, height)\n",
    "    ]\n",
    "    gray=cv2.cvtColor(image,cv2.COLOR_BGR2GRAY)\n",
    "    cann=cv2.Canny(gray,100,200)\n",
    "    ima=func(cann,np.array([inter],np.int32,),)\n",
    "    linesP = cv2.HoughLinesP(ima, 4 , np.pi/180, 40,np.array([]), 40, 100)\n",
    "    #print(linesP)\n",
    "    fram_return=linesmake(image,linesP)\n",
    "    return fram_return\n",
    "\n",
    "def func(imge,interests):\n",
    "    mask=np.zeros_like(imge)\n",
    "    #channel=img.shape[2]\n",
    "    match=255\n",
    "    cv2.fillPoly(mask,interests,match)\n",
    "    masked_image = cv2.bitwise_and(imge, mask)\n",
    "    return masked_image\n",
    "\n",
    "\n",
    "def linesmake(cam,lines):\n",
    "    imag=np.copy(cam)\n",
    "    blank_image=np.zeros((cam.shape[0],cam.shape[1],3),dtype=np.uint8)\n",
    "    for line in lines:\n",
    "        for x1, y1, x2, y2 in line:\n",
    "               x=(0,cam.shape[0]),\n",
    "               y=(0,cam.shape[0]//2),\n",
    "               w=(cam.shape[1],cam.shape[0]/2),\n",
    "               z=(cam.shape[0]/2,cam.shape[1]//0.3)\n",
    "               cv2.line(blank_image, (x1,y1),(x2,y2),(255,0,0)  ,8)\n",
    "\n",
    "    img = cv2.addWeighted(cam, 0.8, blank_image, 1, 0.0)\n",
    "    return img\n"
   ]
  },
  {
   "cell_type": "code",
   "execution_count": null,
   "metadata": {},
   "outputs": [],
   "source": [
    "cam=cv2.VideoCapture('test1.mp4')\n",
    "#cam=cv2.cvtColor(cam,cv2.COLOR_BGR2RGB)\n",
    "while cam.isOpened():\n",
    "    ret,frame=cam.read()\n",
    "    frame=process(frame)\n",
    "    cv2.imshow('frame',frame)\n",
    "    if cv2.waitKey(1) & 0xFF == ord('q'):\n",
    "        break\n",
    "\n",
    "        \n",
    "        \n",
    "\n",
    "cam.release()\n",
    "cam.DestroyALLWindows()\n",
    "    "
   ]
  },
  {
   "cell_type": "code",
   "execution_count": null,
   "metadata": {},
   "outputs": [],
   "source": []
  },
  {
   "cell_type": "code",
   "execution_count": null,
   "metadata": {},
   "outputs": [],
   "source": []
  }
 ],
 "metadata": {
  "kernelspec": {
   "display_name": "Python 3",
   "language": "python",
   "name": "python3"
  },
  "language_info": {
   "codemirror_mode": {
    "name": "ipython",
    "version": 3
   },
   "file_extension": ".py",
   "mimetype": "text/x-python",
   "name": "python",
   "nbconvert_exporter": "python",
   "pygments_lexer": "ipython3",
   "version": "3.8.3"
  }
 },
 "nbformat": 4,
 "nbformat_minor": 4
}
